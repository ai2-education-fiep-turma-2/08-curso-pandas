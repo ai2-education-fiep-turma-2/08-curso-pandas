{
 "cells": [
  {
   "cell_type": "markdown",
   "metadata": {},
   "source": [
    "## Funcionalidades do Python, Numpy e Pandas para manipular tipos de dados temporal\n",
    "* Objeto  para trabalhar com data e hora no python e Pandas (datetime)\n",
    "* Funções diversas para trabalhar com data e hora (dateutil)\n",
    "    * No exemplo abaixo parse de texto para objeto datetime"
   ]
  },
  {
   "cell_type": "code",
   "execution_count": 48,
   "metadata": {},
   "outputs": [],
   "source": [
    "import numpy as np\n",
    "import pandas as pd"
   ]
  },
  {
   "cell_type": "markdown",
   "metadata": {},
   "source": [
    "## Objeto datetime do python"
   ]
  },
  {
   "cell_type": "code",
   "execution_count": 52,
   "metadata": {},
   "outputs": [
    {
     "name": "stdout",
     "output_type": "stream",
     "text": [
      "2015-07-04 11:12:13\n",
      "<class 'datetime.datetime'>\n"
     ]
    }
   ],
   "source": [
    "from datetime import datetime\n",
    "t=datetime(year=2015, month=7, day=4, hour=11, minute=12, second=13)\n",
    "print(t)\n",
    "print(type(t))"
   ]
  },
  {
   "cell_type": "markdown",
   "metadata": {},
   "source": [
    "## Operacoes com datas\n",
    "* Parser de data\n",
    "* visualização parcial de data\n",
    "* função para formatar data para visualização strftime"
   ]
  },
  {
   "cell_type": "code",
   "execution_count": 59,
   "metadata": {},
   "outputs": [
    {
     "name": "stdout",
     "output_type": "stream",
     "text": [
      "2018-07-05 00:00:00\n",
      "Thursday\n",
      "5\n"
     ]
    }
   ],
   "source": [
    "from dateutil import parser\n",
    "date = parser.parse(\"5th of July, 2018\")\n",
    "print(date)\n",
    "print(date.strftime('%A'))\n",
    "\n",
    "dt=date.day\n",
    "print(dt)"
   ]
  },
  {
   "cell_type": "markdown",
   "metadata": {},
   "source": [
    "## Suporte do numpy para operação com datas\n",
    "* np.datetime64 - objeto que manipula datas na biblioteca numpy"
   ]
  },
  {
   "cell_type": "code",
   "execution_count": 62,
   "metadata": {},
   "outputs": [
    {
     "name": "stdout",
     "output_type": "stream",
     "text": [
      "2015-07-08\n",
      "2015-07-04T00:00:00.000000\n",
      "2015-07-04 00:00:00\n",
      "<class 'datetime.datetime'>\n",
      "<class 'numpy.ndarray'>\n"
     ]
    }
   ],
   "source": [
    "datenp = np.array('2015-07-08', dtype=np.datetime64)\n",
    "print(datenp)\n",
    "date = parser.parse(\"4th of July, 2015\")\n",
    "datenp = np.array(date, dtype=np.datetime64)\n",
    "print(datenp)\n",
    "print(date)\n",
    "print(type(date))\n",
    "print(type(datenp))"
   ]
  },
  {
   "cell_type": "markdown",
   "metadata": {},
   "source": [
    "## Criando novas datas usando função range"
   ]
  },
  {
   "cell_type": "code",
   "execution_count": 65,
   "metadata": {},
   "outputs": [
    {
     "data": {
      "text/plain": [
       "array(['2015-07', '2015-08', '2015-09', '2015-10', '2015-11', '2015-12',\n",
       "       '2016-01', '2016-02', '2016-03', '2016-04', '2016-05', '2016-06'],\n",
       "      dtype='datetime64[M]')"
      ]
     },
     "execution_count": 65,
     "metadata": {},
     "output_type": "execute_result"
    }
   ],
   "source": [
    "datenp = np.array('2015-07', dtype=np.datetime64)\n",
    "datenp + np.arange(12)"
   ]
  },
  {
   "cell_type": "markdown",
   "metadata": {},
   "source": [
    "## Representacao de datas por nível de detalhe"
   ]
  },
  {
   "cell_type": "code",
   "execution_count": 73,
   "metadata": {},
   "outputs": [
    {
     "name": "stdout",
     "output_type": "stream",
     "text": [
      "2015-07-04T12:59:59.500000000\n",
      "1970-01-01T00:00:04.924576063353126912\n",
      "2015-07-04T12:59:59\n",
      "2015-07-04T12\n",
      "2015-07-04\n",
      "2015-07\n",
      "2015\n",
      "2015-07-30\n"
     ]
    }
   ],
   "source": [
    "dt=np.datetime64('2015-07-04 12:59:59.50', 'ns')\n",
    "print(dt)\n",
    "dt=np.datetime64('2015-07-04 12:59:59.50', 'as')\n",
    "print(dt)\n",
    "dt=np.datetime64('2015-07-04 12:59:59.50', 's')\n",
    "print(dt)\n",
    "dt=np.datetime64('2015-07-04 12:59:59.50', 'h')\n",
    "print(dt)\n",
    "dt=np.datetime64('2015-07-04 12:59:59.50', 'D')\n",
    "print(dt)\n",
    "dt=np.datetime64('2015-07-04 12:59:59.50', 'M')\n",
    "print(dt)\n",
    "dt=np.datetime64('2015-07-04 12:59:59.50', 'Y')\n",
    "print(dt)\n",
    "dt=np.datetime64('2015-07-31 12:59:59.50', 'W')\n",
    "print(dt)"
   ]
  },
  {
   "cell_type": "markdown",
   "metadata": {},
   "source": [
    "## Tabela de códigos de especificação de datas\n",
    "\n",
    "Cód | Nível\n",
    "----|-------\n",
    "Y\t| Year\n",
    "M\t| Month\n",
    "W\t| Week\n",
    "D\t| Day\n",
    "h\t| Hour\n",
    "m\t| Minute\n",
    "s\t| Second\n",
    "ms\t| Millisecond\n",
    "us\t| Microsecond\n",
    "ns\t| Nanosecond\n",
    "ps\t| Picosecond\n",
    "fs\t| Femtosecond\n",
    "as\t| Attosecond"
   ]
  },
  {
   "cell_type": "markdown",
   "metadata": {},
   "source": [
    "## Pandas manipulação de dados temporais\n",
    "\n",
    "* O Pandas implementa as funcionalidades do objetos mostrados\n",
    "* Função to_datetime converte uma coluna para tipo timestamp"
   ]
  },
  {
   "cell_type": "code",
   "execution_count": 74,
   "metadata": {},
   "outputs": [
    {
     "name": "stdout",
     "output_type": "stream",
     "text": [
      "2015-07-04 00:00:00\n",
      "<class 'pandas._libs.tslibs.timestamps.Timestamp'>\n",
      "Saturday\n"
     ]
    }
   ],
   "source": [
    "date = pd.to_datetime(\"4th of July, 2015\")\n",
    "print(date)\n",
    "print(type(date))\n",
    "print(date.strftime('%A'))"
   ]
  },
  {
   "cell_type": "code",
   "execution_count": null,
   "metadata": {},
   "outputs": [],
   "source": []
  },
  {
   "cell_type": "markdown",
   "metadata": {},
   "source": [
    "## Gerando dados temporais\n",
    "* converte para o tipo timestamp de data do pandas to_timedelta"
   ]
  },
  {
   "cell_type": "code",
   "execution_count": 76,
   "metadata": {},
   "outputs": [
    {
     "name": "stderr",
     "output_type": "stream",
     "text": [
      "/home/silvio/.local/lib/python3.7/site-packages/pandas/util/_decorators.py:208: FutureWarning: M and Y units are deprecated and will be removed in a future version.\n",
      "  return func(*args, **kwargs)\n"
     ]
    },
    {
     "data": {
      "text/plain": [
       "DatetimeIndex(['2015-07-04 00:00:00', '2015-08-03 10:29:06',\n",
       "               '2015-09-02 20:58:12', '2015-10-03 07:27:18',\n",
       "               '2015-11-02 17:56:24', '2015-12-03 04:25:30',\n",
       "               '2016-01-02 14:54:36', '2016-02-02 01:23:42',\n",
       "               '2016-03-03 11:52:48', '2016-04-02 22:21:54',\n",
       "               '2016-05-03 08:51:00', '2016-06-02 19:20:06',\n",
       "               '2016-07-03 05:49:12', '2016-08-02 16:18:18',\n",
       "               '2016-09-02 02:47:24', '2016-10-02 13:16:30',\n",
       "               '2016-11-01 23:45:36', '2016-12-02 10:14:42'],\n",
       "              dtype='datetime64[ns]', freq=None)"
      ]
     },
     "execution_count": 76,
     "metadata": {},
     "output_type": "execute_result"
    }
   ],
   "source": [
    "date + pd.to_timedelta(np.arange(18), 'M')"
   ]
  },
  {
   "cell_type": "markdown",
   "metadata": {},
   "source": [
    "## Pandas permite que um objeto series (coluna do dataframe) seja indexado por data"
   ]
  },
  {
   "cell_type": "code",
   "execution_count": 78,
   "metadata": {},
   "outputs": [
    {
     "data": {
      "text/plain": [
       "2014-07-04    0\n",
       "2014-08-04    1\n",
       "2015-07-04    2\n",
       "2015-08-04    3\n",
       "dtype: int64"
      ]
     },
     "execution_count": 78,
     "metadata": {},
     "output_type": "execute_result"
    }
   ],
   "source": [
    "index = pd.DatetimeIndex(['2014-07-04', '2014-08-04',\n",
    "                          '2015-07-04', '2015-08-04'])\n",
    "data = pd.Series([0, 1, 2, 3], index=index)\n",
    "data"
   ]
  },
  {
   "cell_type": "markdown",
   "metadata": {},
   "source": [
    "## Slicing com datas"
   ]
  },
  {
   "cell_type": "code",
   "execution_count": 80,
   "metadata": {},
   "outputs": [
    {
     "data": {
      "text/plain": [
       "2014-07-04    0\n",
       "2014-08-04    1\n",
       "dtype: int64"
      ]
     },
     "execution_count": 80,
     "metadata": {},
     "output_type": "execute_result"
    }
   ],
   "source": [
    "data['2014-07-04':'2015-07-03']\n"
   ]
  },
  {
   "cell_type": "code",
   "execution_count": 19,
   "metadata": {},
   "outputs": [
    {
     "data": {
      "text/plain": [
       "2014-07-04    0\n",
       "2014-08-04    1\n",
       "2015-07-04    2\n",
       "2015-08-04    3\n",
       "dtype: int64"
      ]
     },
     "execution_count": 19,
     "metadata": {},
     "output_type": "execute_result"
    }
   ],
   "source": [
    "data"
   ]
  },
  {
   "cell_type": "markdown",
   "metadata": {},
   "source": [
    "## Filtrando apenas por ano com slicing"
   ]
  },
  {
   "cell_type": "code",
   "execution_count": 81,
   "metadata": {},
   "outputs": [
    {
     "data": {
      "text/plain": [
       "2015-07-04    2\n",
       "2015-08-04    3\n",
       "dtype: int64"
      ]
     },
     "execution_count": 81,
     "metadata": {},
     "output_type": "execute_result"
    }
   ],
   "source": [
    "data['2015']"
   ]
  },
  {
   "cell_type": "markdown",
   "metadata": {},
   "source": [
    "Estruturas de dados de séries temporais do Pandas\n",
    "\n",
    "* Timestamps\n",
    "\n",
    "* Period\n",
    "\n",
    "* Timedelta\n"
   ]
  },
  {
   "cell_type": "code",
   "execution_count": 89,
   "metadata": {},
   "outputs": [
    {
     "data": {
      "text/plain": [
       "DatetimeIndex(['2015-07-03', '2015-07-04', '2015-07-06', '2015-07-07',\n",
       "               '2015-07-08', '2015-07-09', '2015-08-10', '2015-08-11'],\n",
       "              dtype='datetime64[ns]', freq=None)"
      ]
     },
     "execution_count": 89,
     "metadata": {},
     "output_type": "execute_result"
    }
   ],
   "source": [
    "dates = pd.to_datetime([datetime(2015, 7, 3), '4th of July, 2015',\n",
    "                       '2015-Jul-6', '07-07-2015', '20150708', '20150709', '20150810', '20150811'])\n",
    "dates"
   ]
  },
  {
   "cell_type": "code",
   "execution_count": null,
   "metadata": {},
   "outputs": [],
   "source": []
  },
  {
   "cell_type": "code",
   "execution_count": 93,
   "metadata": {},
   "outputs": [
    {
     "data": {
      "text/plain": [
       "PeriodIndex(['2015-07-03 00:00', '2015-07-04 00:00', '2015-07-06 00:00',\n",
       "             '2015-07-07 00:00', '2015-07-08 00:00', '2015-07-09 00:00',\n",
       "             '2015-08-10 00:00', '2015-08-11 00:00'],\n",
       "            dtype='period[H]', freq='H')"
      ]
     },
     "execution_count": 93,
     "metadata": {},
     "output_type": "execute_result"
    }
   ],
   "source": [
    "dates.to_period('H')"
   ]
  },
  {
   "cell_type": "markdown",
   "metadata": {},
   "source": [
    "## calcula diferenca entre datas"
   ]
  },
  {
   "cell_type": "code",
   "execution_count": 94,
   "metadata": {},
   "outputs": [
    {
     "data": {
      "text/plain": [
       "TimedeltaIndex([ '0 days',  '1 days',  '3 days',  '4 days',  '5 days',\n",
       "                 '6 days', '38 days', '39 days'],\n",
       "               dtype='timedelta64[ns]', freq=None)"
      ]
     },
     "execution_count": 94,
     "metadata": {},
     "output_type": "execute_result"
    }
   ],
   "source": [
    "dates - dates[0]"
   ]
  },
  {
   "cell_type": "markdown",
   "metadata": {},
   "source": [
    "## Sequências regulares: pd.date_range ()\n",
    "\n",
    "* funções para criação de sequências regulares de datas\n",
    "\n",
    "* pd.date_range() recebe uma data inicial, final e uma quantidade opcional de valores a serem gerados on intervalo\n",
    "* pd.period_range()  recebe uma data inicial, final e uma frequência: Mensal, semanal , etc\n",
    "* pd.timedelta_range() "
   ]
  },
  {
   "cell_type": "markdown",
   "metadata": {},
   "source": [
    "* Exemplo com dias"
   ]
  },
  {
   "cell_type": "code",
   "execution_count": 95,
   "metadata": {},
   "outputs": [
    {
     "data": {
      "text/plain": [
       "DatetimeIndex(['2015-07-01', '2015-07-02', '2015-07-03', '2015-07-04',\n",
       "               '2015-07-05', '2015-07-06', '2015-07-07', '2015-07-08'],\n",
       "              dtype='datetime64[ns]', freq='D')"
      ]
     },
     "execution_count": 95,
     "metadata": {},
     "output_type": "execute_result"
    }
   ],
   "source": [
    "pd.date_range('2015-07', periods=8)"
   ]
  },
  {
   "cell_type": "markdown",
   "metadata": {},
   "source": [
    "* Exemplo com horas"
   ]
  },
  {
   "cell_type": "code",
   "execution_count": 97,
   "metadata": {},
   "outputs": [
    {
     "data": {
      "text/plain": [
       "DatetimeIndex(['2015-07-31', '2015-08-31', '2015-09-30', '2015-10-31',\n",
       "               '2015-11-30', '2015-12-31', '2016-01-31', '2016-02-29'],\n",
       "              dtype='datetime64[ns]', freq='M')"
      ]
     },
     "execution_count": 97,
     "metadata": {},
     "output_type": "execute_result"
    }
   ],
   "source": [
    "pd.date_range('2015-07-03', periods=8, freq='M')"
   ]
  },
  {
   "cell_type": "code",
   "execution_count": null,
   "metadata": {},
   "outputs": [],
   "source": []
  },
  {
   "cell_type": "code",
   "execution_count": 98,
   "metadata": {},
   "outputs": [
    {
     "name": "stdout",
     "output_type": "stream",
     "text": [
      "0    2010-12-27/2011-01-02\n",
      "1    2011-01-03/2011-01-09\n",
      "2    2011-01-10/2011-01-16\n",
      "dtype: period[W-SUN]\n",
      "0    2011-01-01\n",
      "1    2011-01-02\n",
      "2    2011-01-03\n",
      "dtype: period[D]\n",
      "0    2011-01-01 00:00\n",
      "1    2011-01-01 01:00\n",
      "2    2011-01-01 02:00\n",
      "dtype: period[H]\n"
     ]
    }
   ],
   "source": [
    "#gera 3 semanas\n",
    "dt=pd.Series(pd.period_range('1/1/2011', freq='W', periods=3))\n",
    "print(dt)\n",
    "\n",
    "#gera 3 dias\n",
    "dt=pd.Series(pd.period_range('1/1/2011', freq='D', periods=3))\n",
    "print(dt)\n",
    "\n",
    "#gera 3 horas\n",
    "dt=pd.Series(pd.period_range('1/1/2011', freq='H', periods=3))\n",
    "print(dt)"
   ]
  },
  {
   "cell_type": "markdown",
   "metadata": {},
   "source": []
  },
  {
   "cell_type": "code",
   "execution_count": null,
   "metadata": {},
   "outputs": [],
   "source": []
  },
  {
   "cell_type": "markdown",
   "metadata": {},
   "source": [
    "# Manipulação de datasets de dados temporais"
   ]
  },
  {
   "cell_type": "markdown",
   "metadata": {},
   "source": [
    "## Exemplo: Visualizando Contagens de Bicicleta em Seattle\n",
    "\n",
    "* Fremont Bridge Seattle: sensor indutivo que contabiliza o número de bicicletas por hora\n",
    "* O dataset e mais detalhes a respeito pode ser encontrado em: http://data.seattle.gov/\n",
    "* Link direto para o dataset: https://data.seattle.gov/Transportation/Fremont-Bridge-Bicycle-Counter/65db-xm6k/data\n",
    "\n"
   ]
  },
  {
   "cell_type": "code",
   "execution_count": 99,
   "metadata": {},
   "outputs": [
    {
     "data": {
      "text/html": [
       "<div>\n",
       "<style scoped>\n",
       "    .dataframe tbody tr th:only-of-type {\n",
       "        vertical-align: middle;\n",
       "    }\n",
       "\n",
       "    .dataframe tbody tr th {\n",
       "        vertical-align: top;\n",
       "    }\n",
       "\n",
       "    .dataframe thead th {\n",
       "        text-align: right;\n",
       "    }\n",
       "</style>\n",
       "<table border=\"1\" class=\"dataframe\">\n",
       "  <thead>\n",
       "    <tr style=\"text-align: right;\">\n",
       "      <th></th>\n",
       "      <th>Fremont Bridge Total</th>\n",
       "      <th>Fremont Bridge East Sidewalk</th>\n",
       "      <th>Fremont Bridge West Sidewalk</th>\n",
       "    </tr>\n",
       "    <tr>\n",
       "      <th>Date</th>\n",
       "      <th></th>\n",
       "      <th></th>\n",
       "      <th></th>\n",
       "    </tr>\n",
       "  </thead>\n",
       "  <tbody>\n",
       "    <tr>\n",
       "      <th>2012-10-03 00:00:00</th>\n",
       "      <td>13.0</td>\n",
       "      <td>4.0</td>\n",
       "      <td>9.0</td>\n",
       "    </tr>\n",
       "    <tr>\n",
       "      <th>2012-10-03 01:00:00</th>\n",
       "      <td>10.0</td>\n",
       "      <td>4.0</td>\n",
       "      <td>6.0</td>\n",
       "    </tr>\n",
       "    <tr>\n",
       "      <th>2012-10-03 02:00:00</th>\n",
       "      <td>2.0</td>\n",
       "      <td>1.0</td>\n",
       "      <td>1.0</td>\n",
       "    </tr>\n",
       "    <tr>\n",
       "      <th>2012-10-03 03:00:00</th>\n",
       "      <td>5.0</td>\n",
       "      <td>2.0</td>\n",
       "      <td>3.0</td>\n",
       "    </tr>\n",
       "    <tr>\n",
       "      <th>2012-10-03 04:00:00</th>\n",
       "      <td>7.0</td>\n",
       "      <td>6.0</td>\n",
       "      <td>1.0</td>\n",
       "    </tr>\n",
       "  </tbody>\n",
       "</table>\n",
       "</div>"
      ],
      "text/plain": [
       "                     Fremont Bridge Total  Fremont Bridge East Sidewalk  \\\n",
       "Date                                                                      \n",
       "2012-10-03 00:00:00                  13.0                           4.0   \n",
       "2012-10-03 01:00:00                  10.0                           4.0   \n",
       "2012-10-03 02:00:00                   2.0                           1.0   \n",
       "2012-10-03 03:00:00                   5.0                           2.0   \n",
       "2012-10-03 04:00:00                   7.0                           6.0   \n",
       "\n",
       "                     Fremont Bridge West Sidewalk  \n",
       "Date                                               \n",
       "2012-10-03 00:00:00                           9.0  \n",
       "2012-10-03 01:00:00                           6.0  \n",
       "2012-10-03 02:00:00                           1.0  \n",
       "2012-10-03 03:00:00                           3.0  \n",
       "2012-10-03 04:00:00                           1.0  "
      ]
     },
     "execution_count": 99,
     "metadata": {},
     "output_type": "execute_result"
    }
   ],
   "source": [
    "data = pd.read_csv('Fremont_Bridge_Bicycle_Counter.csv', index_col='Date', parse_dates=True)\n",
    "data.head()"
   ]
  },
  {
   "cell_type": "code",
   "execution_count": 100,
   "metadata": {},
   "outputs": [
    {
     "name": "stdout",
     "output_type": "stream",
     "text": [
      "<class 'pandas.core.frame.DataFrame'>\n",
      "DatetimeIndex: 135614 entries, 2012-10-03 00:00:00 to 2020-08-31 23:00:00\n",
      "Data columns (total 3 columns):\n",
      "Fremont Bridge Total            135593 non-null float64\n",
      "Fremont Bridge East Sidewalk    135593 non-null float64\n",
      "Fremont Bridge West Sidewalk    135593 non-null float64\n",
      "dtypes: float64(3)\n",
      "memory usage: 4.1 MB\n"
     ]
    }
   ],
   "source": [
    "data.info()"
   ]
  },
  {
   "cell_type": "code",
   "execution_count": 101,
   "metadata": {},
   "outputs": [
    {
     "data": {
      "text/html": [
       "<div>\n",
       "<style scoped>\n",
       "    .dataframe tbody tr th:only-of-type {\n",
       "        vertical-align: middle;\n",
       "    }\n",
       "\n",
       "    .dataframe tbody tr th {\n",
       "        vertical-align: top;\n",
       "    }\n",
       "\n",
       "    .dataframe thead th {\n",
       "        text-align: right;\n",
       "    }\n",
       "</style>\n",
       "<table border=\"1\" class=\"dataframe\">\n",
       "  <thead>\n",
       "    <tr style=\"text-align: right;\">\n",
       "      <th></th>\n",
       "      <th>Fremont Bridge Total</th>\n",
       "      <th>Fremont Bridge East Sidewalk</th>\n",
       "      <th>Fremont Bridge West Sidewalk</th>\n",
       "    </tr>\n",
       "  </thead>\n",
       "  <tbody>\n",
       "    <tr>\n",
       "      <th>count</th>\n",
       "      <td>135593.000000</td>\n",
       "      <td>135593.000000</td>\n",
       "      <td>135593.000000</td>\n",
       "    </tr>\n",
       "    <tr>\n",
       "      <th>mean</th>\n",
       "      <td>113.146158</td>\n",
       "      <td>51.605415</td>\n",
       "      <td>61.540743</td>\n",
       "    </tr>\n",
       "    <tr>\n",
       "      <th>std</th>\n",
       "      <td>143.810041</td>\n",
       "      <td>66.313631</td>\n",
       "      <td>89.549971</td>\n",
       "    </tr>\n",
       "    <tr>\n",
       "      <th>min</th>\n",
       "      <td>0.000000</td>\n",
       "      <td>0.000000</td>\n",
       "      <td>0.000000</td>\n",
       "    </tr>\n",
       "    <tr>\n",
       "      <th>25%</th>\n",
       "      <td>14.000000</td>\n",
       "      <td>6.000000</td>\n",
       "      <td>7.000000</td>\n",
       "    </tr>\n",
       "    <tr>\n",
       "      <th>50%</th>\n",
       "      <td>61.000000</td>\n",
       "      <td>28.000000</td>\n",
       "      <td>30.000000</td>\n",
       "    </tr>\n",
       "    <tr>\n",
       "      <th>75%</th>\n",
       "      <td>148.000000</td>\n",
       "      <td>69.000000</td>\n",
       "      <td>75.000000</td>\n",
       "    </tr>\n",
       "    <tr>\n",
       "      <th>max</th>\n",
       "      <td>1097.000000</td>\n",
       "      <td>698.000000</td>\n",
       "      <td>850.000000</td>\n",
       "    </tr>\n",
       "  </tbody>\n",
       "</table>\n",
       "</div>"
      ],
      "text/plain": [
       "       Fremont Bridge Total  Fremont Bridge East Sidewalk  \\\n",
       "count         135593.000000                 135593.000000   \n",
       "mean             113.146158                     51.605415   \n",
       "std              143.810041                     66.313631   \n",
       "min                0.000000                      0.000000   \n",
       "25%               14.000000                      6.000000   \n",
       "50%               61.000000                     28.000000   \n",
       "75%              148.000000                     69.000000   \n",
       "max             1097.000000                    698.000000   \n",
       "\n",
       "       Fremont Bridge West Sidewalk  \n",
       "count                 135593.000000  \n",
       "mean                      61.540743  \n",
       "std                       89.549971  \n",
       "min                        0.000000  \n",
       "25%                        7.000000  \n",
       "50%                       30.000000  \n",
       "75%                       75.000000  \n",
       "max                      850.000000  "
      ]
     },
     "execution_count": 101,
     "metadata": {},
     "output_type": "execute_result"
    }
   ],
   "source": [
    "data.describe()"
   ]
  },
  {
   "cell_type": "markdown",
   "metadata": {},
   "source": [
    "# Mudando frequência dos dados\n",
    "* Originalmente os dados estão em média diária, mas podem ser transformados para média semanam, mensal, etc\n",
    "* método resample"
   ]
  },
  {
   "cell_type": "code",
   "execution_count": 105,
   "metadata": {},
   "outputs": [
    {
     "name": "stdout",
     "output_type": "stream",
     "text": [
      "2012-10-03 00:00:00\n",
      "Wednesday\n"
     ]
    }
   ],
   "source": [
    "from dateutil import parser\n",
    "date = parser.parse(\"2012-10-03\")\n",
    "print(date)\n",
    "print(date.strftime('%A'))\n"
   ]
  },
  {
   "cell_type": "code",
   "execution_count": 102,
   "metadata": {},
   "outputs": [
    {
     "data": {
      "text/html": [
       "<div>\n",
       "<style scoped>\n",
       "    .dataframe tbody tr th:only-of-type {\n",
       "        vertical-align: middle;\n",
       "    }\n",
       "\n",
       "    .dataframe tbody tr th {\n",
       "        vertical-align: top;\n",
       "    }\n",
       "\n",
       "    .dataframe thead th {\n",
       "        text-align: right;\n",
       "    }\n",
       "</style>\n",
       "<table border=\"1\" class=\"dataframe\">\n",
       "  <thead>\n",
       "    <tr style=\"text-align: right;\">\n",
       "      <th></th>\n",
       "      <th>Fremont Bridge Total</th>\n",
       "      <th>Fremont Bridge East Sidewalk</th>\n",
       "      <th>Fremont Bridge West Sidewalk</th>\n",
       "    </tr>\n",
       "    <tr>\n",
       "      <th>Date</th>\n",
       "      <th></th>\n",
       "      <th></th>\n",
       "      <th></th>\n",
       "    </tr>\n",
       "  </thead>\n",
       "  <tbody>\n",
       "    <tr>\n",
       "      <th>2012-10-07</th>\n",
       "      <td>28584.0</td>\n",
       "      <td>14594.0</td>\n",
       "      <td>13990.0</td>\n",
       "    </tr>\n",
       "    <tr>\n",
       "      <th>2012-10-14</th>\n",
       "      <td>33590.0</td>\n",
       "      <td>17358.0</td>\n",
       "      <td>16232.0</td>\n",
       "    </tr>\n",
       "    <tr>\n",
       "      <th>2012-10-21</th>\n",
       "      <td>31018.0</td>\n",
       "      <td>15892.0</td>\n",
       "      <td>15126.0</td>\n",
       "    </tr>\n",
       "    <tr>\n",
       "      <th>2012-10-28</th>\n",
       "      <td>26874.0</td>\n",
       "      <td>13802.0</td>\n",
       "      <td>13072.0</td>\n",
       "    </tr>\n",
       "    <tr>\n",
       "      <th>2012-11-04</th>\n",
       "      <td>24388.0</td>\n",
       "      <td>12816.0</td>\n",
       "      <td>11572.0</td>\n",
       "    </tr>\n",
       "  </tbody>\n",
       "</table>\n",
       "</div>"
      ],
      "text/plain": [
       "            Fremont Bridge Total  Fremont Bridge East Sidewalk  \\\n",
       "Date                                                             \n",
       "2012-10-07               28584.0                       14594.0   \n",
       "2012-10-14               33590.0                       17358.0   \n",
       "2012-10-21               31018.0                       15892.0   \n",
       "2012-10-28               26874.0                       13802.0   \n",
       "2012-11-04               24388.0                       12816.0   \n",
       "\n",
       "            Fremont Bridge West Sidewalk  \n",
       "Date                                      \n",
       "2012-10-07                       13990.0  \n",
       "2012-10-14                       16232.0  \n",
       "2012-10-21                       15126.0  \n",
       "2012-10-28                       13072.0  \n",
       "2012-11-04                       11572.0  "
      ]
     },
     "execution_count": 102,
     "metadata": {},
     "output_type": "execute_result"
    }
   ],
   "source": [
    "weekly = data.resample('W').sum()\n",
    "weekly.head()"
   ]
  },
  {
   "cell_type": "markdown",
   "metadata": {},
   "source": [
    "## Agregando dados por intervalo de 30 dias"
   ]
  },
  {
   "cell_type": "code",
   "execution_count": 106,
   "metadata": {},
   "outputs": [
    {
     "data": {
      "text/html": [
       "<div>\n",
       "<style scoped>\n",
       "    .dataframe tbody tr th:only-of-type {\n",
       "        vertical-align: middle;\n",
       "    }\n",
       "\n",
       "    .dataframe tbody tr th {\n",
       "        vertical-align: top;\n",
       "    }\n",
       "\n",
       "    .dataframe thead th {\n",
       "        text-align: right;\n",
       "    }\n",
       "</style>\n",
       "<table border=\"1\" class=\"dataframe\">\n",
       "  <thead>\n",
       "    <tr style=\"text-align: right;\">\n",
       "      <th></th>\n",
       "      <th>Fremont Bridge Total</th>\n",
       "      <th>Fremont Bridge East Sidewalk</th>\n",
       "      <th>Fremont Bridge West Sidewalk</th>\n",
       "    </tr>\n",
       "    <tr>\n",
       "      <th>Date</th>\n",
       "      <th></th>\n",
       "      <th></th>\n",
       "      <th></th>\n",
       "    </tr>\n",
       "  </thead>\n",
       "  <tbody>\n",
       "    <tr>\n",
       "      <th>2012-10-03</th>\n",
       "      <td>7042.0</td>\n",
       "      <td>3520.0</td>\n",
       "      <td>3522.0</td>\n",
       "    </tr>\n",
       "    <tr>\n",
       "      <th>2012-10-04</th>\n",
       "      <td>6950.0</td>\n",
       "      <td>3416.0</td>\n",
       "      <td>3534.0</td>\n",
       "    </tr>\n",
       "    <tr>\n",
       "      <th>2012-10-05</th>\n",
       "      <td>6296.0</td>\n",
       "      <td>3116.0</td>\n",
       "      <td>3180.0</td>\n",
       "    </tr>\n",
       "    <tr>\n",
       "      <th>2012-10-06</th>\n",
       "      <td>4012.0</td>\n",
       "      <td>2160.0</td>\n",
       "      <td>1852.0</td>\n",
       "    </tr>\n",
       "    <tr>\n",
       "      <th>2012-10-07</th>\n",
       "      <td>4284.0</td>\n",
       "      <td>2382.0</td>\n",
       "      <td>1902.0</td>\n",
       "    </tr>\n",
       "  </tbody>\n",
       "</table>\n",
       "</div>"
      ],
      "text/plain": [
       "            Fremont Bridge Total  Fremont Bridge East Sidewalk  \\\n",
       "Date                                                             \n",
       "2012-10-03                7042.0                        3520.0   \n",
       "2012-10-04                6950.0                        3416.0   \n",
       "2012-10-05                6296.0                        3116.0   \n",
       "2012-10-06                4012.0                        2160.0   \n",
       "2012-10-07                4284.0                        2382.0   \n",
       "\n",
       "            Fremont Bridge West Sidewalk  \n",
       "Date                                      \n",
       "2012-10-03                        3522.0  \n",
       "2012-10-04                        3534.0  \n",
       "2012-10-05                        3180.0  \n",
       "2012-10-06                        1852.0  \n",
       "2012-10-07                        1902.0  "
      ]
     },
     "execution_count": 106,
     "metadata": {},
     "output_type": "execute_result"
    }
   ],
   "source": [
    "daily = data.resample('D').sum()\n",
    "daily.head()"
   ]
  },
  {
   "cell_type": "code",
   "execution_count": 112,
   "metadata": {},
   "outputs": [
    {
     "data": {
      "text/html": [
       "<div>\n",
       "<style scoped>\n",
       "    .dataframe tbody tr th:only-of-type {\n",
       "        vertical-align: middle;\n",
       "    }\n",
       "\n",
       "    .dataframe tbody tr th {\n",
       "        vertical-align: top;\n",
       "    }\n",
       "\n",
       "    .dataframe thead th {\n",
       "        text-align: right;\n",
       "    }\n",
       "</style>\n",
       "<table border=\"1\" class=\"dataframe\">\n",
       "  <thead>\n",
       "    <tr style=\"text-align: right;\">\n",
       "      <th></th>\n",
       "      <th>Fremont Bridge Total</th>\n",
       "      <th>Fremont Bridge East Sidewalk</th>\n",
       "      <th>Fremont Bridge West Sidewalk</th>\n",
       "    </tr>\n",
       "    <tr>\n",
       "      <th>Date</th>\n",
       "      <th></th>\n",
       "      <th></th>\n",
       "      <th></th>\n",
       "    </tr>\n",
       "  </thead>\n",
       "  <tbody>\n",
       "    <tr>\n",
       "      <th>2012-12-31</th>\n",
       "      <td>604.0</td>\n",
       "      <td>317.0</td>\n",
       "      <td>400.0</td>\n",
       "    </tr>\n",
       "    <tr>\n",
       "      <th>2013-12-31</th>\n",
       "      <td>831.0</td>\n",
       "      <td>626.0</td>\n",
       "      <td>593.0</td>\n",
       "    </tr>\n",
       "    <tr>\n",
       "      <th>2014-12-31</th>\n",
       "      <td>946.0</td>\n",
       "      <td>698.0</td>\n",
       "      <td>667.0</td>\n",
       "    </tr>\n",
       "    <tr>\n",
       "      <th>2015-12-31</th>\n",
       "      <td>808.0</td>\n",
       "      <td>584.0</td>\n",
       "      <td>571.0</td>\n",
       "    </tr>\n",
       "    <tr>\n",
       "      <th>2016-12-31</th>\n",
       "      <td>957.0</td>\n",
       "      <td>560.0</td>\n",
       "      <td>717.0</td>\n",
       "    </tr>\n",
       "    <tr>\n",
       "      <th>2017-12-31</th>\n",
       "      <td>913.0</td>\n",
       "      <td>517.0</td>\n",
       "      <td>696.0</td>\n",
       "    </tr>\n",
       "    <tr>\n",
       "      <th>2018-12-31</th>\n",
       "      <td>924.0</td>\n",
       "      <td>521.0</td>\n",
       "      <td>709.0</td>\n",
       "    </tr>\n",
       "    <tr>\n",
       "      <th>2019-12-31</th>\n",
       "      <td>1097.0</td>\n",
       "      <td>541.0</td>\n",
       "      <td>850.0</td>\n",
       "    </tr>\n",
       "    <tr>\n",
       "      <th>2020-12-31</th>\n",
       "      <td>730.0</td>\n",
       "      <td>381.0</td>\n",
       "      <td>572.0</td>\n",
       "    </tr>\n",
       "  </tbody>\n",
       "</table>\n",
       "</div>"
      ],
      "text/plain": [
       "            Fremont Bridge Total  Fremont Bridge East Sidewalk  \\\n",
       "Date                                                             \n",
       "2012-12-31                 604.0                         317.0   \n",
       "2013-12-31                 831.0                         626.0   \n",
       "2014-12-31                 946.0                         698.0   \n",
       "2015-12-31                 808.0                         584.0   \n",
       "2016-12-31                 957.0                         560.0   \n",
       "2017-12-31                 913.0                         517.0   \n",
       "2018-12-31                 924.0                         521.0   \n",
       "2019-12-31                1097.0                         541.0   \n",
       "2020-12-31                 730.0                         381.0   \n",
       "\n",
       "            Fremont Bridge West Sidewalk  \n",
       "Date                                      \n",
       "2012-12-31                         400.0  \n",
       "2013-12-31                         593.0  \n",
       "2014-12-31                         667.0  \n",
       "2015-12-31                         571.0  \n",
       "2016-12-31                         717.0  \n",
       "2017-12-31                         696.0  \n",
       "2018-12-31                         709.0  \n",
       "2019-12-31                         850.0  \n",
       "2020-12-31                         572.0  "
      ]
     },
     "execution_count": 112,
     "metadata": {},
     "output_type": "execute_result"
    }
   ],
   "source": [
    "daily = data.resample('Y').max()\n",
    "daily"
   ]
  },
  {
   "cell_type": "markdown",
   "metadata": {},
   "source": [
    "## Agrupando dados\n",
    "* Obtendo uma visão de tráfego por hora do dia\n"
   ]
  },
  {
   "cell_type": "code",
   "execution_count": 113,
   "metadata": {},
   "outputs": [
    {
     "data": {
      "text/html": [
       "<div>\n",
       "<style scoped>\n",
       "    .dataframe tbody tr th:only-of-type {\n",
       "        vertical-align: middle;\n",
       "    }\n",
       "\n",
       "    .dataframe tbody tr th {\n",
       "        vertical-align: top;\n",
       "    }\n",
       "\n",
       "    .dataframe thead th {\n",
       "        text-align: right;\n",
       "    }\n",
       "</style>\n",
       "<table border=\"1\" class=\"dataframe\">\n",
       "  <thead>\n",
       "    <tr style=\"text-align: right;\">\n",
       "      <th></th>\n",
       "      <th>Fremont Bridge Total</th>\n",
       "      <th>Fremont Bridge East Sidewalk</th>\n",
       "      <th>Fremont Bridge West Sidewalk</th>\n",
       "    </tr>\n",
       "  </thead>\n",
       "  <tbody>\n",
       "    <tr>\n",
       "      <th>00:00:00</th>\n",
       "      <td>11.304902</td>\n",
       "      <td>4.791541</td>\n",
       "      <td>6.513360</td>\n",
       "    </tr>\n",
       "    <tr>\n",
       "      <th>01:00:00</th>\n",
       "      <td>5.984074</td>\n",
       "      <td>2.680764</td>\n",
       "      <td>3.303309</td>\n",
       "    </tr>\n",
       "    <tr>\n",
       "      <th>02:00:00</th>\n",
       "      <td>3.938453</td>\n",
       "      <td>1.890032</td>\n",
       "      <td>2.048421</td>\n",
       "    </tr>\n",
       "    <tr>\n",
       "      <th>03:00:00</th>\n",
       "      <td>2.903557</td>\n",
       "      <td>1.493895</td>\n",
       "      <td>1.409662</td>\n",
       "    </tr>\n",
       "    <tr>\n",
       "      <th>04:00:00</th>\n",
       "      <td>6.487878</td>\n",
       "      <td>3.440807</td>\n",
       "      <td>3.047071</td>\n",
       "    </tr>\n",
       "    <tr>\n",
       "      <th>05:00:00</th>\n",
       "      <td>25.589630</td>\n",
       "      <td>15.619182</td>\n",
       "      <td>9.970448</td>\n",
       "    </tr>\n",
       "    <tr>\n",
       "      <th>06:00:00</th>\n",
       "      <td>89.945496</td>\n",
       "      <td>54.047779</td>\n",
       "      <td>35.897717</td>\n",
       "    </tr>\n",
       "    <tr>\n",
       "      <th>07:00:00</th>\n",
       "      <td>227.002831</td>\n",
       "      <td>140.801982</td>\n",
       "      <td>86.200849</td>\n",
       "    </tr>\n",
       "    <tr>\n",
       "      <th>08:00:00</th>\n",
       "      <td>322.147231</td>\n",
       "      <td>189.640241</td>\n",
       "      <td>132.506990</td>\n",
       "    </tr>\n",
       "    <tr>\n",
       "      <th>09:00:00</th>\n",
       "      <td>188.577093</td>\n",
       "      <td>102.221101</td>\n",
       "      <td>86.355992</td>\n",
       "    </tr>\n",
       "    <tr>\n",
       "      <th>10:00:00</th>\n",
       "      <td>100.344840</td>\n",
       "      <td>52.377766</td>\n",
       "      <td>47.967074</td>\n",
       "    </tr>\n",
       "    <tr>\n",
       "      <th>11:00:00</th>\n",
       "      <td>89.222340</td>\n",
       "      <td>46.166578</td>\n",
       "      <td>43.055762</td>\n",
       "    </tr>\n",
       "    <tr>\n",
       "      <th>12:00:00</th>\n",
       "      <td>95.248008</td>\n",
       "      <td>48.234024</td>\n",
       "      <td>47.013985</td>\n",
       "    </tr>\n",
       "    <tr>\n",
       "      <th>13:00:00</th>\n",
       "      <td>101.929747</td>\n",
       "      <td>50.690143</td>\n",
       "      <td>51.239604</td>\n",
       "    </tr>\n",
       "    <tr>\n",
       "      <th>14:00:00</th>\n",
       "      <td>111.129204</td>\n",
       "      <td>53.007611</td>\n",
       "      <td>58.121593</td>\n",
       "    </tr>\n",
       "    <tr>\n",
       "      <th>15:00:00</th>\n",
       "      <td>141.325841</td>\n",
       "      <td>62.540531</td>\n",
       "      <td>78.785310</td>\n",
       "    </tr>\n",
       "    <tr>\n",
       "      <th>16:00:00</th>\n",
       "      <td>232.995752</td>\n",
       "      <td>83.464425</td>\n",
       "      <td>149.531327</td>\n",
       "    </tr>\n",
       "    <tr>\n",
       "      <th>17:00:00</th>\n",
       "      <td>389.189381</td>\n",
       "      <td>112.824956</td>\n",
       "      <td>276.364425</td>\n",
       "    </tr>\n",
       "    <tr>\n",
       "      <th>18:00:00</th>\n",
       "      <td>264.838761</td>\n",
       "      <td>89.667965</td>\n",
       "      <td>175.170796</td>\n",
       "    </tr>\n",
       "    <tr>\n",
       "      <th>19:00:00</th>\n",
       "      <td>130.602301</td>\n",
       "      <td>49.622124</td>\n",
       "      <td>80.980177</td>\n",
       "    </tr>\n",
       "    <tr>\n",
       "      <th>20:00:00</th>\n",
       "      <td>75.016991</td>\n",
       "      <td>30.491858</td>\n",
       "      <td>44.525133</td>\n",
       "    </tr>\n",
       "    <tr>\n",
       "      <th>21:00:00</th>\n",
       "      <td>47.885133</td>\n",
       "      <td>20.899292</td>\n",
       "      <td>26.985841</td>\n",
       "    </tr>\n",
       "    <tr>\n",
       "      <th>22:00:00</th>\n",
       "      <td>31.201770</td>\n",
       "      <td>13.426549</td>\n",
       "      <td>17.775221</td>\n",
       "    </tr>\n",
       "    <tr>\n",
       "      <th>23:00:00</th>\n",
       "      <td>20.508142</td>\n",
       "      <td>8.390973</td>\n",
       "      <td>12.117168</td>\n",
       "    </tr>\n",
       "  </tbody>\n",
       "</table>\n",
       "</div>"
      ],
      "text/plain": [
       "          Fremont Bridge Total  Fremont Bridge East Sidewalk  \\\n",
       "00:00:00             11.304902                      4.791541   \n",
       "01:00:00              5.984074                      2.680764   \n",
       "02:00:00              3.938453                      1.890032   \n",
       "03:00:00              2.903557                      1.493895   \n",
       "04:00:00              6.487878                      3.440807   \n",
       "05:00:00             25.589630                     15.619182   \n",
       "06:00:00             89.945496                     54.047779   \n",
       "07:00:00            227.002831                    140.801982   \n",
       "08:00:00            322.147231                    189.640241   \n",
       "09:00:00            188.577093                    102.221101   \n",
       "10:00:00            100.344840                     52.377766   \n",
       "11:00:00             89.222340                     46.166578   \n",
       "12:00:00             95.248008                     48.234024   \n",
       "13:00:00            101.929747                     50.690143   \n",
       "14:00:00            111.129204                     53.007611   \n",
       "15:00:00            141.325841                     62.540531   \n",
       "16:00:00            232.995752                     83.464425   \n",
       "17:00:00            389.189381                    112.824956   \n",
       "18:00:00            264.838761                     89.667965   \n",
       "19:00:00            130.602301                     49.622124   \n",
       "20:00:00             75.016991                     30.491858   \n",
       "21:00:00             47.885133                     20.899292   \n",
       "22:00:00             31.201770                     13.426549   \n",
       "23:00:00             20.508142                      8.390973   \n",
       "\n",
       "          Fremont Bridge West Sidewalk  \n",
       "00:00:00                      6.513360  \n",
       "01:00:00                      3.303309  \n",
       "02:00:00                      2.048421  \n",
       "03:00:00                      1.409662  \n",
       "04:00:00                      3.047071  \n",
       "05:00:00                      9.970448  \n",
       "06:00:00                     35.897717  \n",
       "07:00:00                     86.200849  \n",
       "08:00:00                    132.506990  \n",
       "09:00:00                     86.355992  \n",
       "10:00:00                     47.967074  \n",
       "11:00:00                     43.055762  \n",
       "12:00:00                     47.013985  \n",
       "13:00:00                     51.239604  \n",
       "14:00:00                     58.121593  \n",
       "15:00:00                     78.785310  \n",
       "16:00:00                    149.531327  \n",
       "17:00:00                    276.364425  \n",
       "18:00:00                    175.170796  \n",
       "19:00:00                     80.980177  \n",
       "20:00:00                     44.525133  \n",
       "21:00:00                     26.985841  \n",
       "22:00:00                     17.775221  \n",
       "23:00:00                     12.117168  "
      ]
     },
     "execution_count": 113,
     "metadata": {},
     "output_type": "execute_result"
    }
   ],
   "source": [
    "import numpy as np\n",
    "\n",
    "by_time = data.groupby(data.index.time).mean()\n",
    "\n",
    "by_time"
   ]
  },
  {
   "cell_type": "markdown",
   "metadata": {},
   "source": [
    "## Agrupando por dia da semana"
   ]
  },
  {
   "cell_type": "code",
   "execution_count": 114,
   "metadata": {},
   "outputs": [
    {
     "data": {
      "text/html": [
       "<div>\n",
       "<style scoped>\n",
       "    .dataframe tbody tr th:only-of-type {\n",
       "        vertical-align: middle;\n",
       "    }\n",
       "\n",
       "    .dataframe tbody tr th {\n",
       "        vertical-align: top;\n",
       "    }\n",
       "\n",
       "    .dataframe thead th {\n",
       "        text-align: right;\n",
       "    }\n",
       "</style>\n",
       "<table border=\"1\" class=\"dataframe\">\n",
       "  <thead>\n",
       "    <tr style=\"text-align: right;\">\n",
       "      <th></th>\n",
       "      <th>Fremont Bridge Total</th>\n",
       "      <th>Fremont Bridge East Sidewalk</th>\n",
       "      <th>Fremont Bridge West Sidewalk</th>\n",
       "    </tr>\n",
       "    <tr>\n",
       "      <th>Date</th>\n",
       "      <th></th>\n",
       "      <th></th>\n",
       "      <th></th>\n",
       "    </tr>\n",
       "  </thead>\n",
       "  <tbody>\n",
       "    <tr>\n",
       "      <th>0</th>\n",
       "      <td>132.039395</td>\n",
       "      <td>58.638527</td>\n",
       "      <td>73.400867</td>\n",
       "    </tr>\n",
       "    <tr>\n",
       "      <th>1</th>\n",
       "      <td>140.619442</td>\n",
       "      <td>62.726267</td>\n",
       "      <td>77.893175</td>\n",
       "    </tr>\n",
       "    <tr>\n",
       "      <th>2</th>\n",
       "      <td>139.598217</td>\n",
       "      <td>62.306091</td>\n",
       "      <td>77.292126</td>\n",
       "    </tr>\n",
       "    <tr>\n",
       "      <th>3</th>\n",
       "      <td>132.737108</td>\n",
       "      <td>59.636035</td>\n",
       "      <td>73.101073</td>\n",
       "    </tr>\n",
       "    <tr>\n",
       "      <th>4</th>\n",
       "      <td>120.132101</td>\n",
       "      <td>53.894702</td>\n",
       "      <td>66.237399</td>\n",
       "    </tr>\n",
       "    <tr>\n",
       "      <th>5</th>\n",
       "      <td>64.290376</td>\n",
       "      <td>32.242720</td>\n",
       "      <td>32.047656</td>\n",
       "    </tr>\n",
       "    <tr>\n",
       "      <th>6</th>\n",
       "      <td>62.537484</td>\n",
       "      <td>31.765849</td>\n",
       "      <td>30.771635</td>\n",
       "    </tr>\n",
       "  </tbody>\n",
       "</table>\n",
       "</div>"
      ],
      "text/plain": [
       "      Fremont Bridge Total  Fremont Bridge East Sidewalk  \\\n",
       "Date                                                       \n",
       "0               132.039395                     58.638527   \n",
       "1               140.619442                     62.726267   \n",
       "2               139.598217                     62.306091   \n",
       "3               132.737108                     59.636035   \n",
       "4               120.132101                     53.894702   \n",
       "5                64.290376                     32.242720   \n",
       "6                62.537484                     31.765849   \n",
       "\n",
       "      Fremont Bridge West Sidewalk  \n",
       "Date                                \n",
       "0                        73.400867  \n",
       "1                        77.893175  \n",
       "2                        77.292126  \n",
       "3                        73.101073  \n",
       "4                        66.237399  \n",
       "5                        32.047656  \n",
       "6                        30.771635  "
      ]
     },
     "execution_count": 114,
     "metadata": {},
     "output_type": "execute_result"
    }
   ],
   "source": [
    "by_weekday = data.groupby(data.index.dayofweek).mean()\n",
    "by_weekday"
   ]
  },
  {
   "cell_type": "code",
   "execution_count": null,
   "metadata": {},
   "outputs": [],
   "source": []
  },
  {
   "cell_type": "code",
   "execution_count": null,
   "metadata": {},
   "outputs": [],
   "source": []
  },
  {
   "cell_type": "code",
   "execution_count": null,
   "metadata": {},
   "outputs": [],
   "source": []
  }
 ],
 "metadata": {
  "kernelspec": {
   "display_name": "Python 3",
   "language": "python",
   "name": "python3"
  },
  "language_info": {
   "codemirror_mode": {
    "name": "ipython",
    "version": 3
   },
   "file_extension": ".py",
   "mimetype": "text/x-python",
   "name": "python",
   "nbconvert_exporter": "python",
   "pygments_lexer": "ipython3",
   "version": "3.7.0"
  }
 },
 "nbformat": 4,
 "nbformat_minor": 4
}
